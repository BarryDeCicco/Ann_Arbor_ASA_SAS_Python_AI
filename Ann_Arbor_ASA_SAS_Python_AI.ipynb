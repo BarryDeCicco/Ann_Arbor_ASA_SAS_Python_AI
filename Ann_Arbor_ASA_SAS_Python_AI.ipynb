{
  "nbformat": 4,
  "nbformat_minor": 0,
  "metadata": {
    "colab": {
      "provenance": [],
      "toc_visible": true,
      "authorship_tag": "ABX9TyPuPz+v3v+8jWHW2w3i9JyR",
      "include_colab_link": true
    },
    "kernelspec": {
      "name": "python3",
      "display_name": "Python 3"
    },
    "language_info": {
      "name": "python"
    }
  },
  "cells": [
    {
      "cell_type": "markdown",
      "metadata": {
        "id": "view-in-github",
        "colab_type": "text"
      },
      "source": [
        "<a href=\"https://colab.research.google.com/github/BarryDeCicco/Ann_Arbor_ASA_SAS_Python_AI/blob/main/Ann_Arbor_ASA_SAS_Python_AI.ipynb\" target=\"_parent\"><img src=\"https://colab.research.google.com/assets/colab-badge.svg\" alt=\"Open In Colab\"/></a>"
      ]
    },
    {
      "cell_type": "code",
      "execution_count": 2,
      "metadata": {
        "id": "JCaZYnJVXmdE"
      },
      "outputs": [],
      "source": []
    },
    {
      "cell_type": "markdown",
      "source": [
        "# This notebook demonstrates how to translate SAS code to Python code using AI.  It will be given at the April, 2025 Meeting of the Ann Arbor Chapter of the American Statistical Association\n"
      ],
      "metadata": {
        "id": "KAfpIbsiX7wZ"
      }
    },
    {
      "cell_type": "code",
      "source": [],
      "metadata": {
        "id": "uUh1yqEgYmaf"
      },
      "execution_count": 2,
      "outputs": []
    },
    {
      "cell_type": "markdown",
      "source": [],
      "metadata": {
        "id": "Wzlsog22Y2_t"
      }
    },
    {
      "cell_type": "markdown",
      "source": [
        "## Software Used in this presentation:"
      ],
      "metadata": {
        "id": "0MirzjEdY4Bg"
      }
    },
    {
      "cell_type": "markdown",
      "source": [
        "-   [ChatGPT version 4.0](https://chatgpt.com)\n",
        "\n",
        "-   [ClaudeAI](https://claude.ai \"https://claude.ai\")\n",
        "\n",
        "-   [CodeConvert](https://app.codeconvert.ai/)\n",
        "\n",
        "-   [DeepSeek](https://chat.deepseek.com/)"
      ],
      "metadata": {
        "id": "d-eaXlxSY-9W"
      }
    },
    {
      "cell_type": "markdown",
      "source": [
        "## My Experience\n"
      ],
      "metadata": {
        "id": "Ai078GHRb85X"
      }
    },
    {
      "cell_type": "markdown",
      "source": [
        "-   Has mainly been in SAS =\\> Python/PySpark/Pandas\n",
        "\n",
        "> Add blockquote\n",
        "\n",
        "\n",
        "\n",
        "-   Conversion by 'paragraph' (small block) is 90% correct.\n",
        "\n",
        "-   This means that converting a large block of code will result in code with multiple errors, and that you will have to go back to converting in short chunks.\n",
        "\n",
        "-   PySpark is a distributed system, which I've found the most difficulty with (e.g., it doesn't like row-by-row operations).  Also, I don't have access to that now, so will not cover that here."
      ],
      "metadata": {
        "id": "bXEx_5YQcBkS"
      }
    },
    {
      "cell_type": "markdown",
      "source": [
        "text"
      ],
      "metadata": {
        "id": "w6urQ-WbcJ4d"
      }
    },
    {
      "cell_type": "code",
      "source": [
        "# Code\n"
      ],
      "metadata": {
        "id": "rBUrK-aocLti"
      },
      "execution_count": 3,
      "outputs": []
    }
  ]
}